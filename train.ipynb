{
 "cells": [
  {
   "cell_type": "code",
   "execution_count": 2,
   "metadata": {
    "id": "cxCklIOc6SBp"
   },
   "outputs": [],
   "source": [
    "import cv2\n",
    "import os, os.path\n",
    "import tensorflow as tf\n",
    "from sklearn.model_selection import train_test_split\n",
    "import numpy as np\n",
    "from tensorflow.keras.layers import Conv2D, Dense, Input, Flatten, MaxPool2D, Dropout, BatchNormalization\n",
    "from tensorflow.keras import Model\n",
    "from tensorflow.keras.applications import vgg16\n",
    "from tensorflow.keras.optimizers import Adam, RMSprop\n",
    "from tensorflow.keras.callbacks import ReduceLROnPlateau, EarlyStopping\n",
    "from tensorflow.keras.regularizers import L2\n",
    "from tensorflow.keras.activations import relu, tanh\n",
    "import matplotlib.pyplot as plt"
   ]
  },
  {
   "cell_type": "code",
   "execution_count": 3,
   "metadata": {
    "id": "-Dv7mPrXAoCC"
   },
   "outputs": [],
   "source": [
    "# Define hyperparameters\n",
    "\n",
    "optimizer = Adam(learning_rate=1e-4)\n",
    "batch_size = 10\n",
    "epochs = 1000\n",
    "coef_reg = 0 # Coefficient for L2 regularizer of weights\n",
    "coef_bias_reg = 0 # Coefficient for L2 regularizer of biases\n",
    "act = 'relu' # Choice of activation functions (either relu or tanh)"
   ]
  },
  {
   "cell_type": "code",
   "execution_count": 4,
   "metadata": {
    "id": "KDJvdK5p5fEv"
   },
   "outputs": [],
   "source": [
    "def createDataset(img_folder, label_path,scale_percent=70):\n",
    "# This function create dataset from a folder of images and a label file. \n",
    "# scale_percent is how much you want to scale the images down\n",
    "# The outputs are a numpy array of images and a numpy array of locations of phones\n",
    "    images = []\n",
    "    labels = []\n",
    "    f = open(label_path)\n",
    "    lines = f.readlines()\n",
    "    for line in lines:\n",
    "        if(line.strip() != \"\"):\n",
    "            img, x, y = line.split(\" \")\n",
    "            if(os.path.exists(os.path.join(img_folder,img))):\n",
    "                img_ = cv2.imread(os.path.join(img_folder,img))\n",
    "                width = int(img_.shape[1] * scale_percent / 100)\n",
    "                height = int(img_.shape[0] * scale_percent / 100)\n",
    "                dim = (width, height)\n",
    "                images.append(cv2.resize(img_, dim, interpolation = cv2.INTER_AREA))\n",
    "                labels.append([float(x),float(y)])\n",
    "    return np.asarray(images).astype(\"float32\"), np.asarray(labels).astype(\"float32\") #tf.convert_to_tensor(images), tf.convert_to_tensor(labels)\n",
    "\n",
    "def getAccuracy(model, x, y):\n",
    "# This function computes the accuracy of a model with respect to input x and the ground-truth label y\n",
    "  y_pred = model.predict(x)\n",
    "  diff = np.abs(y_pred - y)\n",
    "  correct = 0\n",
    "  for pair in diff:\n",
    "    if(pair[0] <= 0.05 and pair[1] <= 0.05):\n",
    "      correct += 1\n",
    "  return correct / len(y)"
   ]
  },
  {
   "cell_type": "code",
   "execution_count": 5,
   "metadata": {
    "id": "vSszcKHY8X_b"
   },
   "outputs": [],
   "source": [
    "x, y = createDataset(\"find_phone_data\", \"find_phone_data/labels.txt\") # Build a training dataset\n",
    "x = x/255  # Normalize the dataset\n",
    "x_train, x_val, y_train, y_val = train_test_split(x,y,test_size=0.2, shuffle=True) # Split the dataset into training and validation"
   ]
  },
  {
   "cell_type": "code",
   "execution_count": 6,
   "metadata": {
    "colab": {
     "base_uri": "https://localhost:8080/"
    },
    "id": "exxoAgnzDTob",
    "outputId": "f04b738f-3059-4aa4-b935-1438d09bc70e"
   },
   "outputs": [
    {
     "name": "stdout",
     "output_type": "stream",
     "text": [
      "Model: \"model\"\n",
      "_________________________________________________________________\n",
      " Layer (type)                Output Shape              Param #   \n",
      "=================================================================\n",
      " input_1 (InputLayer)        [(None, 228, 343, 3)]     0         \n",
      "                                                                 \n",
      " conv2d (Conv2D)             (None, 228, 343, 64)      1792      \n",
      "                                                                 \n",
      " conv2d_1 (Conv2D)           (None, 228, 343, 64)      36928     \n",
      "                                                                 \n",
      " max_pooling2d (MaxPooling2D  (None, 114, 172, 64)     0         \n",
      " )                                                               \n",
      "                                                                 \n",
      " conv2d_2 (Conv2D)           (None, 114, 172, 128)     73856     \n",
      "                                                                 \n",
      " conv2d_3 (Conv2D)           (None, 114, 172, 128)     147584    \n",
      "                                                                 \n",
      " max_pooling2d_1 (MaxPooling  (None, 57, 86, 128)      0         \n",
      " 2D)                                                             \n",
      "                                                                 \n",
      " conv2d_4 (Conv2D)           (None, 57, 86, 256)       295168    \n",
      "                                                                 \n",
      " conv2d_5 (Conv2D)           (None, 57, 86, 256)       590080    \n",
      "                                                                 \n",
      " conv2d_6 (Conv2D)           (None, 57, 86, 256)       590080    \n",
      "                                                                 \n",
      " max_pooling2d_2 (MaxPooling  (None, 29, 43, 256)      0         \n",
      " 2D)                                                             \n",
      "                                                                 \n",
      " conv2d_7 (Conv2D)           (None, 29, 43, 512)       1180160   \n",
      "                                                                 \n",
      " conv2d_8 (Conv2D)           (None, 29, 43, 512)       2359808   \n",
      "                                                                 \n",
      " conv2d_9 (Conv2D)           (None, 29, 43, 512)       2359808   \n",
      "                                                                 \n",
      " max_pooling2d_3 (MaxPooling  (None, 15, 22, 512)      0         \n",
      " 2D)                                                             \n",
      "                                                                 \n",
      " conv2d_10 (Conv2D)          (None, 15, 22, 512)       2359808   \n",
      "                                                                 \n",
      " conv2d_11 (Conv2D)          (None, 15, 22, 512)       2359808   \n",
      "                                                                 \n",
      " conv2d_12 (Conv2D)          (None, 15, 22, 512)       2359808   \n",
      "                                                                 \n",
      " batch_normalization (BatchN  (None, 15, 22, 512)      2048      \n",
      " ormalization)                                                   \n",
      "                                                                 \n",
      " tf.nn.relu (TFOpLambda)     (None, 15, 22, 512)       0         \n",
      "                                                                 \n",
      " max_pooling2d_4 (MaxPooling  (None, 8, 11, 512)       0         \n",
      " 2D)                                                             \n",
      "                                                                 \n",
      " flatten (Flatten)           (None, 45056)             0         \n",
      "                                                                 \n",
      " dense (Dense)               (None, 4096)              184553472 \n",
      "                                                                 \n",
      " dropout (Dropout)           (None, 4096)              0         \n",
      "                                                                 \n",
      " dense_1 (Dense)             (None, 512)               2097664   \n",
      "                                                                 \n",
      " dense_2 (Dense)             (None, 2)                 1026      \n",
      "                                                                 \n",
      "=================================================================\n",
      "Total params: 201,368,898\n",
      "Trainable params: 201,367,874\n",
      "Non-trainable params: 1,024\n",
      "_________________________________________________________________\n"
     ]
    },
    {
     "name": "stderr",
     "output_type": "stream",
     "text": [
      "2022-08-30 13:05:27.737809: I tensorflow/core/platform/cpu_feature_guard.cc:193] This TensorFlow binary is optimized with oneAPI Deep Neural Network Library (oneDNN) to use the following CPU instructions in performance-critical operations:  AVX2 FMA\n",
      "To enable them in other operations, rebuild TensorFlow with the appropriate compiler flags.\n",
      "2022-08-30 13:05:28.300438: I tensorflow/core/common_runtime/gpu/gpu_device.cc:1532] Created device /job:localhost/replica:0/task:0/device:GPU:0 with 6437 MB memory:  -> device: 0, name: NVIDIA GeForce GTX 1080, pci bus id: 0000:03:00.0, compute capability: 6.1\n"
     ]
    }
   ],
   "source": [
    "# Build a machine learning model for phone detection based on VGG-16\n",
    "\n",
    "input = Input((x.shape[1], x.shape[2], x.shape[3]))\n",
    "# 1st Conv Block\n",
    "\n",
    "conv1 = Conv2D (filters =64, kernel_size =3, padding ='same', activation=act, kernel_regularizer=L2(coef_reg), bias_regularizer=L2(coef_bias_reg))(input)\n",
    "conv2 = Conv2D (filters =64, kernel_size =3, padding ='same', activation=act, kernel_regularizer=L2(coef_reg), bias_regularizer=L2(coef_bias_reg))(conv1)\n",
    "max1 = MaxPool2D(pool_size =2, strides =2, padding ='same')(conv2)\n",
    "# 2nd Conv Block\n",
    "\n",
    "conv3 = Conv2D (filters =128, kernel_size =3, padding ='same', activation=act, kernel_regularizer=L2(coef_reg), bias_regularizer=L2(coef_bias_reg))(max1)\n",
    "conv4 = Conv2D (filters =128, kernel_size =3, padding ='same', activation=act, kernel_regularizer=L2(coef_reg), bias_regularizer=L2(coef_bias_reg))(conv3)\n",
    "max2 = MaxPool2D(pool_size =2, strides =2, padding ='same')(conv4)\n",
    "\n",
    "# 3rd Conv block\n",
    "\n",
    "conv5 = Conv2D (filters =256, kernel_size =3, padding ='same', activation=act, kernel_regularizer=L2(coef_reg), bias_regularizer=L2(coef_bias_reg))(max2)\n",
    "conv6 = Conv2D (filters =256, kernel_size =3, padding ='same', activation=act, kernel_regularizer=L2(coef_reg), bias_regularizer=L2(coef_bias_reg))(conv5)\n",
    "conv7 = Conv2D (filters =256, kernel_size =3, padding ='same', activation=act, kernel_regularizer=L2(coef_reg), bias_regularizer=L2(coef_bias_reg))(conv6)\n",
    "max3 = MaxPool2D(pool_size =2, strides =2, padding ='same')(conv7)\n",
    "# 4th Conv block\n",
    "\n",
    "conv8 = Conv2D (filters =512, kernel_size =3, padding ='same', activation=act, kernel_regularizer=L2(coef_reg), bias_regularizer=L2(coef_bias_reg))(max3)\n",
    "conv9 = Conv2D (filters =512, kernel_size =3, padding ='same', activation=act, kernel_regularizer=L2(coef_reg), bias_regularizer=L2(coef_bias_reg))(conv8)\n",
    "conv10 = Conv2D (filters =512, kernel_size =3, padding ='same', activation=act, kernel_regularizer=L2(coef_reg), bias_regularizer=L2(coef_bias_reg))(conv9)\n",
    "max4 = MaxPool2D(pool_size =2, strides =2, padding ='same')(conv10)\n",
    "\n",
    "# 5th Conv block\n",
    "\n",
    "conv11 = Conv2D (filters =512, kernel_size =3, padding ='same', activation=act, kernel_regularizer=L2(coef_reg), bias_regularizer=L2(coef_bias_reg))(max4)\n",
    "conv12 = Conv2D (filters =512, kernel_size =3, padding ='same', activation=act, kernel_regularizer=L2(coef_reg), bias_regularizer=L2(coef_bias_reg))(conv11)\n",
    "conv13 = Conv2D (filters =512, kernel_size =3, padding ='same', kernel_regularizer=L2(coef_reg), bias_regularizer=L2(coef_bias_reg))(conv12)\n",
    "batch2 = BatchNormalization()(conv13)\n",
    "if(act == 'relu'):\n",
    "  act1 = relu(batch2)\n",
    "elif(act == 'tanh'):\n",
    "  act1 = tanh(batch2)\n",
    "max5 = MaxPool2D(pool_size =2, strides =2, padding ='same')(act1)\n",
    "\n",
    "# Fully connected layers\n",
    "\n",
    "flat = Flatten()(max5)\n",
    "dense1 = Dense(units = 4096, activation =act, kernel_regularizer=L2(coef_reg), bias_regularizer=L2(coef_bias_reg))(flat)\n",
    "drop1 = Dropout(0.8)(dense1)\n",
    "dense2 = Dense(units = 512, activation =act, kernel_regularizer=L2(coef_reg), bias_regularizer=L2(coef_bias_reg))(drop1)\n",
    "output = Dense(units = 2, activation ='sigmoid', kernel_regularizer=L2(coef_reg), bias_regularizer=L2(coef_bias_reg))(dense2)\n",
    "\n",
    "# Creating the model\n",
    "\n",
    "model = Model (inputs=input, outputs =output)\n",
    "model.compile(optimizer=optimizer, loss=tf.losses.MeanSquaredError(),metrics=['mae', 'mse'])\n",
    "model.summary()"
   ]
  },
  {
   "cell_type": "code",
   "execution_count": 9,
   "metadata": {
    "colab": {
     "base_uri": "https://localhost:8080/"
    },
    "id": "yZEcfJl8-geK",
    "outputId": "87a38b4b-f47d-4353-9f42-ba849583df3e"
   },
   "outputs": [
    {
     "name": "stdout",
     "output_type": "stream",
     "text": [
      "Epoch 1/1000\n"
     ]
    },
    {
     "name": "stderr",
     "output_type": "stream",
     "text": [
      "2022-08-30 13:05:32.352175: I tensorflow/stream_executor/cuda/cuda_dnn.cc:384] Loaded cuDNN version 8302\n",
      "2022-08-30 13:05:32.710047: I tensorflow/core/platform/default/subprocess.cc:304] Start cannot spawn child process: No such file or directory\n",
      "2022-08-30 13:05:33.282270: W tensorflow/core/common_runtime/bfc_allocator.cc:290] Allocator (GPU_0_bfc) ran out of memory trying to allocate 2.19GiB with freed_by_count=0. The caller indicates that this is not a failure, but this may mean that there could be performance gains if more memory were available.\n",
      "2022-08-30 13:05:33.316305: W tensorflow/core/common_runtime/bfc_allocator.cc:290] Allocator (GPU_0_bfc) ran out of memory trying to allocate 2.19GiB with freed_by_count=0. The caller indicates that this is not a failure, but this may mean that there could be performance gains if more memory were available.\n",
      "2022-08-30 13:05:33.487733: W tensorflow/core/common_runtime/bfc_allocator.cc:290] Allocator (GPU_0_bfc) ran out of memory trying to allocate 2.15GiB with freed_by_count=0. The caller indicates that this is not a failure, but this may mean that there could be performance gains if more memory were available.\n",
      "2022-08-30 13:05:33.504403: W tensorflow/core/common_runtime/bfc_allocator.cc:290] Allocator (GPU_0_bfc) ran out of memory trying to allocate 2.19GiB with freed_by_count=0. The caller indicates that this is not a failure, but this may mean that there could be performance gains if more memory were available.\n"
     ]
    },
    {
     "name": "stdout",
     "output_type": "stream",
     "text": [
      "10/11 [==========================>...] - ETA: 0s - loss: 0.0578 - mae: 0.2075 - mse: 0.0578"
     ]
    },
    {
     "name": "stderr",
     "output_type": "stream",
     "text": [
      "2022-08-30 13:05:36.756088: W tensorflow/core/common_runtime/bfc_allocator.cc:290] Allocator (GPU_0_bfc) ran out of memory trying to allocate 2.16GiB with freed_by_count=0. The caller indicates that this is not a failure, but this may mean that there could be performance gains if more memory were available.\n",
      "2022-08-30 13:05:36.779318: W tensorflow/core/common_runtime/bfc_allocator.cc:290] Allocator (GPU_0_bfc) ran out of memory trying to allocate 2.16GiB with freed_by_count=0. The caller indicates that this is not a failure, but this may mean that there could be performance gains if more memory were available.\n"
     ]
    },
    {
     "name": "stdout",
     "output_type": "stream",
     "text": [
      "11/11 [==============================] - 9s 389ms/step - loss: 0.0573 - mae: 0.2065 - mse: 0.0573 - val_loss: 0.0517 - val_mae: 0.1975 - val_mse: 0.0517 - lr: 1.0000e-04\n",
      "Epoch 2/1000\n",
      "11/11 [==============================] - 3s 256ms/step - loss: 0.0559 - mae: 0.2057 - mse: 0.0559 - val_loss: 0.0518 - val_mae: 0.1976 - val_mse: 0.0518 - lr: 1.0000e-04\n",
      "Epoch 3/1000\n",
      "11/11 [==============================] - 3s 256ms/step - loss: 0.0553 - mae: 0.2060 - mse: 0.0553 - val_loss: 0.0519 - val_mae: 0.1975 - val_mse: 0.0519 - lr: 1.0000e-04\n",
      "Epoch 4/1000\n",
      "11/11 [==============================] - 3s 257ms/step - loss: 0.0506 - mae: 0.1968 - mse: 0.0506 - val_loss: 0.0502 - val_mae: 0.1943 - val_mse: 0.0502 - lr: 1.0000e-04\n",
      "Epoch 5/1000\n",
      "11/11 [==============================] - 3s 257ms/step - loss: 0.0399 - mae: 0.1561 - mse: 0.0399 - val_loss: 0.0504 - val_mae: 0.1944 - val_mse: 0.0504 - lr: 1.0000e-04\n",
      "Epoch 6/1000\n",
      "11/11 [==============================] - 3s 257ms/step - loss: 0.0265 - mae: 0.1276 - mse: 0.0265 - val_loss: 0.0474 - val_mae: 0.1883 - val_mse: 0.0474 - lr: 1.0000e-04\n",
      "Epoch 7/1000\n",
      "11/11 [==============================] - 3s 257ms/step - loss: 0.0188 - mae: 0.1060 - mse: 0.0188 - val_loss: 0.0486 - val_mae: 0.1908 - val_mse: 0.0486 - lr: 1.0000e-04\n",
      "Epoch 8/1000\n",
      "11/11 [==============================] - 3s 257ms/step - loss: 0.0135 - mae: 0.0883 - mse: 0.0135 - val_loss: 0.0474 - val_mae: 0.1886 - val_mse: 0.0474 - lr: 1.0000e-04\n",
      "Epoch 9/1000\n",
      "11/11 [==============================] - 3s 257ms/step - loss: 0.0076 - mae: 0.0683 - mse: 0.0076 - val_loss: 0.0457 - val_mae: 0.1853 - val_mse: 0.0457 - lr: 1.0000e-04\n",
      "Epoch 10/1000\n",
      "11/11 [==============================] - 3s 258ms/step - loss: 0.0085 - mae: 0.0730 - mse: 0.0085 - val_loss: 0.0443 - val_mae: 0.1828 - val_mse: 0.0443 - lr: 1.0000e-04\n",
      "Epoch 11/1000\n",
      "11/11 [==============================] - 3s 258ms/step - loss: 0.0087 - mae: 0.0750 - mse: 0.0087 - val_loss: 0.0458 - val_mae: 0.1856 - val_mse: 0.0458 - lr: 1.0000e-04\n",
      "Epoch 12/1000\n",
      "11/11 [==============================] - 3s 258ms/step - loss: 0.0054 - mae: 0.0591 - mse: 0.0054 - val_loss: 0.0468 - val_mae: 0.1878 - val_mse: 0.0468 - lr: 1.0000e-04\n",
      "Epoch 13/1000\n",
      "11/11 [==============================] - 3s 257ms/step - loss: 0.0046 - mae: 0.0555 - mse: 0.0046 - val_loss: 0.0467 - val_mae: 0.1874 - val_mse: 0.0467 - lr: 1.0000e-04\n",
      "Epoch 14/1000\n",
      "11/11 [==============================] - 3s 258ms/step - loss: 0.0043 - mae: 0.0523 - mse: 0.0043 - val_loss: 0.0443 - val_mae: 0.1826 - val_mse: 0.0443 - lr: 1.0000e-04\n",
      "Epoch 15/1000\n",
      "11/11 [==============================] - 3s 258ms/step - loss: 0.0035 - mae: 0.0454 - mse: 0.0035 - val_loss: 0.0447 - val_mae: 0.1834 - val_mse: 0.0447 - lr: 1.0000e-04\n",
      "Epoch 16/1000\n",
      "11/11 [==============================] - 3s 258ms/step - loss: 0.0025 - mae: 0.0404 - mse: 0.0025 - val_loss: 0.0448 - val_mae: 0.1835 - val_mse: 0.0448 - lr: 1.0000e-04\n",
      "Epoch 17/1000\n",
      "11/11 [==============================] - 3s 259ms/step - loss: 0.0025 - mae: 0.0399 - mse: 0.0025 - val_loss: 0.0449 - val_mae: 0.1839 - val_mse: 0.0449 - lr: 1.0000e-04\n",
      "Epoch 18/1000\n",
      "11/11 [==============================] - 3s 259ms/step - loss: 0.0018 - mae: 0.0328 - mse: 0.0018 - val_loss: 0.0454 - val_mae: 0.1851 - val_mse: 0.0454 - lr: 1.0000e-04\n",
      "Epoch 19/1000\n",
      "11/11 [==============================] - 3s 262ms/step - loss: 0.0020 - mae: 0.0352 - mse: 0.0020 - val_loss: 0.0449 - val_mae: 0.1843 - val_mse: 0.0449 - lr: 1.0000e-04\n",
      "Epoch 20/1000\n",
      "11/11 [==============================] - 3s 259ms/step - loss: 0.0027 - mae: 0.0410 - mse: 0.0027 - val_loss: 0.0420 - val_mae: 0.1782 - val_mse: 0.0420 - lr: 1.0000e-04\n",
      "Epoch 21/1000\n",
      "11/11 [==============================] - 3s 264ms/step - loss: 0.0021 - mae: 0.0367 - mse: 0.0021 - val_loss: 0.0427 - val_mae: 0.1795 - val_mse: 0.0427 - lr: 1.0000e-04\n",
      "Epoch 22/1000\n",
      "11/11 [==============================] - 3s 266ms/step - loss: 0.0020 - mae: 0.0338 - mse: 0.0020 - val_loss: 0.0423 - val_mae: 0.1784 - val_mse: 0.0423 - lr: 1.0000e-04\n",
      "Epoch 23/1000\n",
      "11/11 [==============================] - 3s 264ms/step - loss: 0.0021 - mae: 0.0365 - mse: 0.0021 - val_loss: 0.0437 - val_mae: 0.1815 - val_mse: 0.0437 - lr: 1.0000e-04\n",
      "Epoch 24/1000\n",
      "11/11 [==============================] - 3s 271ms/step - loss: 0.0018 - mae: 0.0331 - mse: 0.0018 - val_loss: 0.0427 - val_mae: 0.1795 - val_mse: 0.0427 - lr: 1.0000e-04\n",
      "Epoch 25/1000\n",
      "11/11 [==============================] - 3s 266ms/step - loss: 0.0016 - mae: 0.0321 - mse: 0.0016 - val_loss: 0.0392 - val_mae: 0.1720 - val_mse: 0.0392 - lr: 1.0000e-04\n",
      "Epoch 26/1000\n",
      "11/11 [==============================] - 3s 264ms/step - loss: 0.0017 - mae: 0.0341 - mse: 0.0017 - val_loss: 0.0404 - val_mae: 0.1745 - val_mse: 0.0404 - lr: 1.0000e-04\n",
      "Epoch 27/1000\n",
      "11/11 [==============================] - 3s 264ms/step - loss: 0.0015 - mae: 0.0295 - mse: 0.0015 - val_loss: 0.0398 - val_mae: 0.1733 - val_mse: 0.0398 - lr: 1.0000e-04\n",
      "Epoch 28/1000\n",
      "11/11 [==============================] - 3s 265ms/step - loss: 0.0011 - mae: 0.0262 - mse: 0.0011 - val_loss: 0.0372 - val_mae: 0.1678 - val_mse: 0.0372 - lr: 1.0000e-04\n",
      "Epoch 29/1000\n",
      "11/11 [==============================] - 3s 266ms/step - loss: 0.0016 - mae: 0.0318 - mse: 0.0016 - val_loss: 0.0388 - val_mae: 0.1713 - val_mse: 0.0388 - lr: 1.0000e-04\n",
      "Epoch 30/1000\n",
      "11/11 [==============================] - 3s 265ms/step - loss: 0.0019 - mae: 0.0354 - mse: 0.0019 - val_loss: 0.0391 - val_mae: 0.1719 - val_mse: 0.0391 - lr: 1.0000e-04\n",
      "Epoch 31/1000\n",
      "11/11 [==============================] - 3s 264ms/step - loss: 0.0017 - mae: 0.0336 - mse: 0.0017 - val_loss: 0.0370 - val_mae: 0.1673 - val_mse: 0.0370 - lr: 1.0000e-04\n",
      "Epoch 32/1000\n",
      "11/11 [==============================] - 3s 264ms/step - loss: 0.0015 - mae: 0.0298 - mse: 0.0015 - val_loss: 0.0376 - val_mae: 0.1688 - val_mse: 0.0376 - lr: 1.0000e-04\n",
      "Epoch 33/1000\n",
      "11/11 [==============================] - 3s 265ms/step - loss: 0.0014 - mae: 0.0296 - mse: 0.0014 - val_loss: 0.0359 - val_mae: 0.1647 - val_mse: 0.0359 - lr: 1.0000e-04\n",
      "Epoch 34/1000\n",
      "11/11 [==============================] - 3s 264ms/step - loss: 0.0017 - mae: 0.0330 - mse: 0.0017 - val_loss: 0.0319 - val_mae: 0.1553 - val_mse: 0.0319 - lr: 1.0000e-04\n",
      "Epoch 35/1000\n",
      "11/11 [==============================] - 3s 269ms/step - loss: 0.0013 - mae: 0.0287 - mse: 0.0013 - val_loss: 0.0332 - val_mae: 0.1586 - val_mse: 0.0332 - lr: 1.0000e-04\n",
      "Epoch 36/1000\n",
      "11/11 [==============================] - 3s 271ms/step - loss: 0.0012 - mae: 0.0275 - mse: 0.0012 - val_loss: 0.0292 - val_mae: 0.1488 - val_mse: 0.0292 - lr: 1.0000e-04\n",
      "Epoch 37/1000\n",
      "11/11 [==============================] - 3s 284ms/step - loss: 0.0013 - mae: 0.0300 - mse: 0.0013 - val_loss: 0.0282 - val_mae: 0.1464 - val_mse: 0.0282 - lr: 1.0000e-04\n",
      "Epoch 38/1000\n",
      "11/11 [==============================] - 3s 265ms/step - loss: 0.0014 - mae: 0.0304 - mse: 0.0014 - val_loss: 0.0289 - val_mae: 0.1477 - val_mse: 0.0289 - lr: 1.0000e-04\n",
      "Epoch 39/1000\n",
      "11/11 [==============================] - 3s 269ms/step - loss: 0.0014 - mae: 0.0282 - mse: 0.0014 - val_loss: 0.0308 - val_mae: 0.1526 - val_mse: 0.0308 - lr: 1.0000e-04\n",
      "Epoch 40/1000\n",
      "11/11 [==============================] - 3s 271ms/step - loss: 0.0012 - mae: 0.0270 - mse: 0.0012 - val_loss: 0.0273 - val_mae: 0.1437 - val_mse: 0.0273 - lr: 1.0000e-04\n",
      "Epoch 41/1000\n",
      "11/11 [==============================] - 3s 269ms/step - loss: 0.0014 - mae: 0.0292 - mse: 0.0014 - val_loss: 0.0290 - val_mae: 0.1480 - val_mse: 0.0290 - lr: 1.0000e-04\n",
      "Epoch 42/1000\n",
      "11/11 [==============================] - 3s 267ms/step - loss: 0.0016 - mae: 0.0310 - mse: 0.0016 - val_loss: 0.0271 - val_mae: 0.1430 - val_mse: 0.0271 - lr: 1.0000e-04\n",
      "Epoch 43/1000\n",
      "11/11 [==============================] - 3s 267ms/step - loss: 0.0014 - mae: 0.0289 - mse: 0.0014 - val_loss: 0.0251 - val_mae: 0.1374 - val_mse: 0.0251 - lr: 1.0000e-04\n",
      "Epoch 44/1000\n",
      "11/11 [==============================] - 3s 271ms/step - loss: 0.0011 - mae: 0.0262 - mse: 0.0011 - val_loss: 0.0211 - val_mae: 0.1258 - val_mse: 0.0211 - lr: 1.0000e-04\n",
      "Epoch 45/1000\n",
      "11/11 [==============================] - 3s 284ms/step - loss: 0.0011 - mae: 0.0258 - mse: 0.0011 - val_loss: 0.0198 - val_mae: 0.1220 - val_mse: 0.0198 - lr: 1.0000e-04\n"
     ]
    },
    {
     "name": "stdout",
     "output_type": "stream",
     "text": [
      "Epoch 46/1000\n",
      "11/11 [==============================] - 3s 268ms/step - loss: 0.0010 - mae: 0.0253 - mse: 0.0010 - val_loss: 0.0169 - val_mae: 0.1119 - val_mse: 0.0169 - lr: 1.0000e-04\n",
      "Epoch 47/1000\n",
      "11/11 [==============================] - 3s 267ms/step - loss: 0.0016 - mae: 0.0323 - mse: 0.0016 - val_loss: 0.0156 - val_mae: 0.1079 - val_mse: 0.0156 - lr: 1.0000e-04\n",
      "Epoch 48/1000\n",
      "11/11 [==============================] - 3s 269ms/step - loss: 0.0017 - mae: 0.0326 - mse: 0.0017 - val_loss: 0.0145 - val_mae: 0.1030 - val_mse: 0.0145 - lr: 1.0000e-04\n",
      "Epoch 49/1000\n",
      "11/11 [==============================] - 3s 265ms/step - loss: 0.0015 - mae: 0.0311 - mse: 0.0015 - val_loss: 0.0123 - val_mae: 0.0955 - val_mse: 0.0123 - lr: 1.0000e-04\n",
      "Epoch 50/1000\n",
      "11/11 [==============================] - 3s 266ms/step - loss: 0.0023 - mae: 0.0378 - mse: 0.0023 - val_loss: 0.0143 - val_mae: 0.1031 - val_mse: 0.0143 - lr: 1.0000e-04\n",
      "Epoch 51/1000\n",
      "11/11 [==============================] - 3s 267ms/step - loss: 0.0013 - mae: 0.0292 - mse: 0.0013 - val_loss: 0.0140 - val_mae: 0.1018 - val_mse: 0.0140 - lr: 1.0000e-04\n",
      "Epoch 52/1000\n",
      "11/11 [==============================] - 3s 277ms/step - loss: 0.0014 - mae: 0.0296 - mse: 0.0014 - val_loss: 0.0110 - val_mae: 0.0894 - val_mse: 0.0110 - lr: 1.0000e-04\n",
      "Epoch 53/1000\n",
      "11/11 [==============================] - 3s 275ms/step - loss: 0.0011 - mae: 0.0267 - mse: 0.0011 - val_loss: 0.0112 - val_mae: 0.0907 - val_mse: 0.0112 - lr: 1.0000e-04\n",
      "Epoch 54/1000\n",
      "11/11 [==============================] - 3s 269ms/step - loss: 0.0014 - mae: 0.0296 - mse: 0.0014 - val_loss: 0.0104 - val_mae: 0.0869 - val_mse: 0.0104 - lr: 1.0000e-04\n",
      "Epoch 55/1000\n",
      "11/11 [==============================] - 3s 268ms/step - loss: 0.0011 - mae: 0.0272 - mse: 0.0011 - val_loss: 0.0101 - val_mae: 0.0850 - val_mse: 0.0101 - lr: 1.0000e-04\n",
      "Epoch 56/1000\n",
      "11/11 [==============================] - 3s 266ms/step - loss: 9.8250e-04 - mae: 0.0246 - mse: 9.8250e-04 - val_loss: 0.0113 - val_mae: 0.0920 - val_mse: 0.0113 - lr: 1.0000e-04\n",
      "Epoch 57/1000\n",
      "11/11 [==============================] - 3s 265ms/step - loss: 0.0014 - mae: 0.0294 - mse: 0.0014 - val_loss: 0.0093 - val_mae: 0.0819 - val_mse: 0.0093 - lr: 1.0000e-04\n",
      "Epoch 58/1000\n",
      "11/11 [==============================] - 3s 266ms/step - loss: 0.0010 - mae: 0.0244 - mse: 0.0010 - val_loss: 0.0067 - val_mae: 0.0674 - val_mse: 0.0067 - lr: 1.0000e-04\n",
      "Epoch 59/1000\n",
      "11/11 [==============================] - 3s 265ms/step - loss: 0.0011 - mae: 0.0247 - mse: 0.0011 - val_loss: 0.0056 - val_mae: 0.0600 - val_mse: 0.0056 - lr: 1.0000e-04\n",
      "Epoch 60/1000\n",
      "11/11 [==============================] - 3s 265ms/step - loss: 9.6582e-04 - mae: 0.0241 - mse: 9.6582e-04 - val_loss: 0.0070 - val_mae: 0.0700 - val_mse: 0.0070 - lr: 1.0000e-04\n",
      "Epoch 61/1000\n",
      "11/11 [==============================] - 3s 264ms/step - loss: 9.7436e-04 - mae: 0.0239 - mse: 9.7436e-04 - val_loss: 0.0061 - val_mae: 0.0662 - val_mse: 0.0061 - lr: 1.0000e-04\n",
      "Epoch 62/1000\n",
      "11/11 [==============================] - 3s 272ms/step - loss: 0.0010 - mae: 0.0238 - mse: 0.0010 - val_loss: 0.0050 - val_mae: 0.0579 - val_mse: 0.0050 - lr: 1.0000e-04\n",
      "Epoch 63/1000\n",
      "11/11 [==============================] - 3s 269ms/step - loss: 9.2124e-04 - mae: 0.0240 - mse: 9.2124e-04 - val_loss: 0.0042 - val_mae: 0.0515 - val_mse: 0.0042 - lr: 1.0000e-04\n",
      "Epoch 64/1000\n",
      "11/11 [==============================] - 3s 267ms/step - loss: 9.0602e-04 - mae: 0.0236 - mse: 9.0602e-04 - val_loss: 0.0045 - val_mae: 0.0554 - val_mse: 0.0045 - lr: 1.0000e-04\n",
      "Epoch 65/1000\n",
      "11/11 [==============================] - 3s 264ms/step - loss: 0.0010 - mae: 0.0250 - mse: 0.0010 - val_loss: 0.0043 - val_mae: 0.0499 - val_mse: 0.0043 - lr: 1.0000e-04\n",
      "Epoch 66/1000\n",
      "11/11 [==============================] - 3s 265ms/step - loss: 7.4254e-04 - mae: 0.0215 - mse: 7.4254e-04 - val_loss: 0.0037 - val_mae: 0.0482 - val_mse: 0.0037 - lr: 1.0000e-04\n",
      "Epoch 67/1000\n",
      "11/11 [==============================] - 3s 268ms/step - loss: 7.0091e-04 - mae: 0.0209 - mse: 7.0091e-04 - val_loss: 0.0030 - val_mae: 0.0423 - val_mse: 0.0030 - lr: 1.0000e-04\n",
      "Epoch 68/1000\n",
      "11/11 [==============================] - 3s 284ms/step - loss: 7.8945e-04 - mae: 0.0219 - mse: 7.8945e-04 - val_loss: 0.0036 - val_mae: 0.0472 - val_mse: 0.0036 - lr: 1.0000e-04\n",
      "Epoch 69/1000\n",
      "11/11 [==============================] - 3s 281ms/step - loss: 8.7746e-04 - mae: 0.0235 - mse: 8.7746e-04 - val_loss: 0.0038 - val_mae: 0.0458 - val_mse: 0.0038 - lr: 1.0000e-04\n",
      "Epoch 70/1000\n",
      "11/11 [==============================] - 3s 265ms/step - loss: 9.2959e-04 - mae: 0.0242 - mse: 9.2959e-04 - val_loss: 0.0028 - val_mae: 0.0367 - val_mse: 0.0028 - lr: 1.0000e-04\n",
      "Epoch 71/1000\n",
      "11/11 [==============================] - 3s 266ms/step - loss: 9.8147e-04 - mae: 0.0246 - mse: 9.8147e-04 - val_loss: 0.0025 - val_mae: 0.0353 - val_mse: 0.0025 - lr: 1.0000e-04\n",
      "Epoch 72/1000\n",
      "11/11 [==============================] - 3s 277ms/step - loss: 0.0011 - mae: 0.0254 - mse: 0.0011 - val_loss: 0.0021 - val_mae: 0.0284 - val_mse: 0.0021 - lr: 1.0000e-04\n",
      "Epoch 73/1000\n",
      "11/11 [==============================] - 3s 267ms/step - loss: 7.0352e-04 - mae: 0.0204 - mse: 7.0352e-04 - val_loss: 0.0025 - val_mae: 0.0371 - val_mse: 0.0025 - lr: 1.0000e-04\n",
      "Epoch 74/1000\n",
      "11/11 [==============================] - 3s 269ms/step - loss: 0.0012 - mae: 0.0269 - mse: 0.0012 - val_loss: 0.0025 - val_mae: 0.0365 - val_mse: 0.0025 - lr: 1.0000e-04\n",
      "Epoch 75/1000\n",
      "11/11 [==============================] - 3s 267ms/step - loss: 9.0859e-04 - mae: 0.0242 - mse: 9.0859e-04 - val_loss: 0.0031 - val_mae: 0.0436 - val_mse: 0.0031 - lr: 1.0000e-04\n",
      "Epoch 76/1000\n",
      "11/11 [==============================] - 3s 267ms/step - loss: 7.9309e-04 - mae: 0.0219 - mse: 7.9309e-04 - val_loss: 0.0026 - val_mae: 0.0364 - val_mse: 0.0026 - lr: 1.0000e-04\n",
      "Epoch 77/1000\n",
      "11/11 [==============================] - 3s 267ms/step - loss: 7.8768e-04 - mae: 0.0219 - mse: 7.8768e-04 - val_loss: 0.0021 - val_mae: 0.0318 - val_mse: 0.0021 - lr: 1.0000e-04\n",
      "Epoch 78/1000\n",
      "11/11 [==============================] - 3s 268ms/step - loss: 8.6343e-04 - mae: 0.0233 - mse: 8.6343e-04 - val_loss: 0.0017 - val_mae: 0.0252 - val_mse: 0.0017 - lr: 1.0000e-04\n",
      "Epoch 79/1000\n",
      "11/11 [==============================] - 3s 266ms/step - loss: 0.0013 - mae: 0.0273 - mse: 0.0013 - val_loss: 0.0016 - val_mae: 0.0236 - val_mse: 0.0016 - lr: 1.0000e-04\n",
      "Epoch 80/1000\n",
      "11/11 [==============================] - 3s 266ms/step - loss: 0.0012 - mae: 0.0275 - mse: 0.0012 - val_loss: 0.0015 - val_mae: 0.0263 - val_mse: 0.0015 - lr: 1.0000e-04\n",
      "Epoch 81/1000\n",
      "11/11 [==============================] - 3s 268ms/step - loss: 8.4277e-04 - mae: 0.0232 - mse: 8.4277e-04 - val_loss: 0.0013 - val_mae: 0.0233 - val_mse: 0.0013 - lr: 1.0000e-04\n",
      "Epoch 82/1000\n",
      "11/11 [==============================] - 3s 269ms/step - loss: 8.6609e-04 - mae: 0.0239 - mse: 8.6609e-04 - val_loss: 0.0016 - val_mae: 0.0251 - val_mse: 0.0016 - lr: 1.0000e-04\n",
      "Epoch 83/1000\n",
      "11/11 [==============================] - 3s 267ms/step - loss: 8.3420e-04 - mae: 0.0222 - mse: 8.3420e-04 - val_loss: 0.0018 - val_mae: 0.0294 - val_mse: 0.0018 - lr: 1.0000e-04\n",
      "Epoch 84/1000\n",
      "11/11 [==============================] - 3s 268ms/step - loss: 8.5626e-04 - mae: 0.0239 - mse: 8.5626e-04 - val_loss: 0.0015 - val_mae: 0.0267 - val_mse: 0.0015 - lr: 1.0000e-04\n",
      "Epoch 85/1000\n",
      "11/11 [==============================] - 3s 267ms/step - loss: 7.6302e-04 - mae: 0.0220 - mse: 7.6302e-04 - val_loss: 0.0015 - val_mae: 0.0254 - val_mse: 0.0015 - lr: 1.0000e-04\n",
      "Epoch 86/1000\n",
      "11/11 [==============================] - 3s 268ms/step - loss: 9.8220e-04 - mae: 0.0251 - mse: 9.8220e-04 - val_loss: 0.0016 - val_mae: 0.0248 - val_mse: 0.0016 - lr: 1.0000e-04\n",
      "Epoch 87/1000\n",
      "11/11 [==============================] - 3s 269ms/step - loss: 7.5407e-04 - mae: 0.0216 - mse: 7.5407e-04 - val_loss: 0.0016 - val_mae: 0.0257 - val_mse: 0.0016 - lr: 1.0000e-04\n",
      "Epoch 88/1000\n",
      "11/11 [==============================] - 3s 269ms/step - loss: 0.0010 - mae: 0.0245 - mse: 0.0010 - val_loss: 0.0013 - val_mae: 0.0216 - val_mse: 0.0013 - lr: 1.0000e-04\n",
      "Epoch 89/1000\n",
      "11/11 [==============================] - 3s 268ms/step - loss: 9.3474e-04 - mae: 0.0237 - mse: 9.3474e-04 - val_loss: 0.0019 - val_mae: 0.0289 - val_mse: 0.0019 - lr: 1.0000e-04\n",
      "Epoch 90/1000\n",
      "11/11 [==============================] - 3s 266ms/step - loss: 9.2253e-04 - mae: 0.0240 - mse: 9.2253e-04 - val_loss: 0.0016 - val_mae: 0.0239 - val_mse: 0.0016 - lr: 1.0000e-04\n",
      "Epoch 91/1000\n",
      "11/11 [==============================] - 3s 267ms/step - loss: 6.0787e-04 - mae: 0.0197 - mse: 6.0787e-04 - val_loss: 0.0016 - val_mae: 0.0222 - val_mse: 0.0016 - lr: 1.0000e-04\n",
      "Epoch 92/1000\n",
      "11/11 [==============================] - 3s 268ms/step - loss: 6.6020e-04 - mae: 0.0197 - mse: 6.6020e-04 - val_loss: 0.0015 - val_mae: 0.0205 - val_mse: 0.0015 - lr: 2.0000e-05\n",
      "Epoch 93/1000\n",
      "11/11 [==============================] - 3s 267ms/step - loss: 6.7124e-04 - mae: 0.0202 - mse: 6.7124e-04 - val_loss: 0.0014 - val_mae: 0.0201 - val_mse: 0.0014 - lr: 2.0000e-05\n",
      "Epoch 94/1000\n",
      "11/11 [==============================] - 3s 266ms/step - loss: 6.5534e-04 - mae: 0.0199 - mse: 6.5534e-04 - val_loss: 0.0014 - val_mae: 0.0199 - val_mse: 0.0014 - lr: 2.0000e-05\n",
      "Epoch 95/1000\n",
      "11/11 [==============================] - 3s 270ms/step - loss: 6.3324e-04 - mae: 0.0188 - mse: 6.3324e-04 - val_loss: 0.0015 - val_mae: 0.0209 - val_mse: 0.0015 - lr: 2.0000e-05\n",
      "Epoch 96/1000\n",
      "11/11 [==============================] - 3s 266ms/step - loss: 8.6677e-04 - mae: 0.0223 - mse: 8.6677e-04 - val_loss: 0.0019 - val_mae: 0.0241 - val_mse: 0.0019 - lr: 2.0000e-05\n",
      "Epoch 97/1000\n",
      "11/11 [==============================] - 3s 266ms/step - loss: 5.6466e-04 - mae: 0.0185 - mse: 5.6466e-04 - val_loss: 0.0015 - val_mae: 0.0206 - val_mse: 0.0015 - lr: 2.0000e-05\n",
      "Epoch 98/1000\n",
      "11/11 [==============================] - 3s 268ms/step - loss: 8.6122e-04 - mae: 0.0224 - mse: 8.6122e-04 - val_loss: 0.0015 - val_mae: 0.0202 - val_mse: 0.0015 - lr: 2.0000e-05\n",
      "Epoch 99/1000\n",
      "11/11 [==============================] - 3s 267ms/step - loss: 5.7667e-04 - mae: 0.0187 - mse: 5.7667e-04 - val_loss: 0.0014 - val_mae: 0.0197 - val_mse: 0.0014 - lr: 2.0000e-05\n",
      "Epoch 100/1000\n",
      "11/11 [==============================] - 3s 270ms/step - loss: 6.5994e-04 - mae: 0.0200 - mse: 6.5994e-04 - val_loss: 0.0014 - val_mae: 0.0205 - val_mse: 0.0014 - lr: 2.0000e-05\n",
      "Epoch 101/1000\n",
      "11/11 [==============================] - 3s 269ms/step - loss: 6.7615e-04 - mae: 0.0202 - mse: 6.7615e-04 - val_loss: 0.0012 - val_mae: 0.0199 - val_mse: 0.0012 - lr: 2.0000e-05\n",
      "Epoch 102/1000\n",
      "11/11 [==============================] - 3s 267ms/step - loss: 5.6805e-04 - mae: 0.0186 - mse: 5.6805e-04 - val_loss: 0.0012 - val_mae: 0.0194 - val_mse: 0.0012 - lr: 4.0000e-06\n",
      "Epoch 103/1000\n",
      "11/11 [==============================] - 3s 268ms/step - loss: 6.4832e-04 - mae: 0.0204 - mse: 6.4832e-04 - val_loss: 0.0011 - val_mae: 0.0192 - val_mse: 0.0011 - lr: 4.0000e-06\n",
      "Epoch 104/1000\n",
      "11/11 [==============================] - 3s 268ms/step - loss: 6.8259e-04 - mae: 0.0210 - mse: 6.8259e-04 - val_loss: 0.0012 - val_mae: 0.0197 - val_mse: 0.0012 - lr: 4.0000e-06\n",
      "Epoch 105/1000\n",
      "11/11 [==============================] - 3s 270ms/step - loss: 5.7788e-04 - mae: 0.0185 - mse: 5.7788e-04 - val_loss: 0.0012 - val_mae: 0.0198 - val_mse: 0.0012 - lr: 4.0000e-06\n",
      "Epoch 106/1000\n",
      "11/11 [==============================] - 3s 266ms/step - loss: 6.6869e-04 - mae: 0.0196 - mse: 6.6869e-04 - val_loss: 0.0012 - val_mae: 0.0193 - val_mse: 0.0012 - lr: 4.0000e-06\n",
      "Epoch 107/1000\n",
      "11/11 [==============================] - 3s 267ms/step - loss: 5.6241e-04 - mae: 0.0185 - mse: 5.6241e-04 - val_loss: 0.0011 - val_mae: 0.0189 - val_mse: 0.0011 - lr: 4.0000e-06\n",
      "Epoch 108/1000\n",
      "11/11 [==============================] - 3s 268ms/step - loss: 5.6575e-04 - mae: 0.0190 - mse: 5.6575e-04 - val_loss: 0.0011 - val_mae: 0.0192 - val_mse: 0.0011 - lr: 4.0000e-06\n",
      "Epoch 109/1000\n",
      "11/11 [==============================] - 3s 270ms/step - loss: 6.2286e-04 - mae: 0.0189 - mse: 6.2286e-04 - val_loss: 0.0012 - val_mae: 0.0192 - val_mse: 0.0012 - lr: 4.0000e-06\n",
      "Epoch 110/1000\n",
      "11/11 [==============================] - 3s 269ms/step - loss: 6.3866e-04 - mae: 0.0197 - mse: 6.3866e-04 - val_loss: 0.0012 - val_mae: 0.0194 - val_mse: 0.0012 - lr: 4.0000e-06\n",
      "Epoch 111/1000\n",
      "11/11 [==============================] - 3s 267ms/step - loss: 6.1951e-04 - mae: 0.0187 - mse: 6.1951e-04 - val_loss: 0.0012 - val_mae: 0.0194 - val_mse: 0.0012 - lr: 4.0000e-06\n",
      "Epoch 112/1000\n",
      "11/11 [==============================] - 3s 269ms/step - loss: 5.9390e-04 - mae: 0.0187 - mse: 5.9390e-04 - val_loss: 0.0012 - val_mae: 0.0194 - val_mse: 0.0012 - lr: 4.0000e-06\n",
      "Epoch 113/1000\n",
      "11/11 [==============================] - 3s 267ms/step - loss: 6.5144e-04 - mae: 0.0198 - mse: 6.5144e-04 - val_loss: 0.0012 - val_mae: 0.0193 - val_mse: 0.0012 - lr: 4.0000e-06\n",
      "Epoch 114/1000\n",
      "11/11 [==============================] - 3s 269ms/step - loss: 5.8103e-04 - mae: 0.0193 - mse: 5.8103e-04 - val_loss: 0.0012 - val_mae: 0.0192 - val_mse: 0.0012 - lr: 1.0000e-06\n",
      "Epoch 115/1000\n",
      "11/11 [==============================] - 3s 267ms/step - loss: 6.5823e-04 - mae: 0.0199 - mse: 6.5823e-04 - val_loss: 0.0012 - val_mae: 0.0192 - val_mse: 0.0012 - lr: 1.0000e-06\n",
      "Epoch 116/1000\n",
      "11/11 [==============================] - 3s 267ms/step - loss: 6.3232e-04 - mae: 0.0193 - mse: 6.3232e-04 - val_loss: 0.0011 - val_mae: 0.0192 - val_mse: 0.0011 - lr: 1.0000e-06\n",
      "Epoch 117/1000\n",
      "11/11 [==============================] - 3s 270ms/step - loss: 5.7259e-04 - mae: 0.0185 - mse: 5.7259e-04 - val_loss: 0.0012 - val_mae: 0.0192 - val_mse: 0.0012 - lr: 1.0000e-06\n",
      "Epoch 118/1000\n",
      "11/11 [==============================] - 3s 269ms/step - loss: 6.2425e-04 - mae: 0.0191 - mse: 6.2425e-04 - val_loss: 0.0012 - val_mae: 0.0193 - val_mse: 0.0012 - lr: 1.0000e-06\n",
      "Epoch 119/1000\n",
      "11/11 [==============================] - 3s 267ms/step - loss: 5.8787e-04 - mae: 0.0187 - mse: 5.8787e-04 - val_loss: 0.0012 - val_mae: 0.0193 - val_mse: 0.0012 - lr: 1.0000e-06\n",
      "Epoch 120/1000\n",
      "11/11 [==============================] - 3s 267ms/step - loss: 6.1442e-04 - mae: 0.0202 - mse: 6.1442e-04 - val_loss: 0.0012 - val_mae: 0.0193 - val_mse: 0.0012 - lr: 1.0000e-06\n",
      "Epoch 121/1000\n",
      "11/11 [==============================] - 3s 269ms/step - loss: 5.4936e-04 - mae: 0.0185 - mse: 5.4936e-04 - val_loss: 0.0012 - val_mae: 0.0193 - val_mse: 0.0012 - lr: 1.0000e-06\n",
      "Epoch 122/1000\n",
      "11/11 [==============================] - 3s 268ms/step - loss: 6.5727e-04 - mae: 0.0205 - mse: 6.5727e-04 - val_loss: 0.0012 - val_mae: 0.0193 - val_mse: 0.0012 - lr: 1.0000e-06\n",
      "Epoch 123/1000\n",
      "11/11 [==============================] - 3s 267ms/step - loss: 6.0492e-04 - mae: 0.0193 - mse: 6.0492e-04 - val_loss: 0.0012 - val_mae: 0.0193 - val_mse: 0.0012 - lr: 1.0000e-06\n",
      "Epoch 124/1000\n",
      "11/11 [==============================] - 3s 268ms/step - loss: 5.6526e-04 - mae: 0.0187 - mse: 5.6526e-04 - val_loss: 0.0012 - val_mae: 0.0193 - val_mse: 0.0012 - lr: 1.0000e-06\n",
      "Epoch 125/1000\n",
      "11/11 [==============================] - 3s 269ms/step - loss: 5.7474e-04 - mae: 0.0188 - mse: 5.7474e-04 - val_loss: 0.0012 - val_mae: 0.0194 - val_mse: 0.0012 - lr: 1.0000e-06\n",
      "Epoch 126/1000\n",
      "11/11 [==============================] - 3s 267ms/step - loss: 5.7033e-04 - mae: 0.0192 - mse: 5.7033e-04 - val_loss: 0.0012 - val_mae: 0.0194 - val_mse: 0.0012 - lr: 1.0000e-06\n",
      "Epoch 127/1000\n",
      "11/11 [==============================] - 3s 269ms/step - loss: 5.5479e-04 - mae: 0.0186 - mse: 5.5479e-04 - val_loss: 0.0012 - val_mae: 0.0194 - val_mse: 0.0012 - lr: 1.0000e-06\n"
     ]
    }
   ],
   "source": [
    "reduce_lr = ReduceLROnPlateau(monitor='val_loss', factor=0.2, patience=10, min_lr=0.000001) # Reduce the learning rate when it is plateau\n",
    "earlystop = EarlyStopping(monitor='val_loss', patience=20) # Early stop the training when there is no improvement\n",
    "hist = model.fit(x_train,y_train,batch_size=batch_size,epochs=epochs,validation_data=(x_val, y_val), callbacks=[earlystop, reduce_lr])"
   ]
  },
  {
   "cell_type": "code",
   "execution_count": 15,
   "metadata": {
    "id": "YSXTrckAl4ex"
   },
   "outputs": [],
   "source": [
    "model.save(\"phone_detection.h5\")"
   ]
  },
  {
   "cell_type": "code",
   "execution_count": 1,
   "metadata": {
    "id": "nGcx-F0laAxo"
   },
   "outputs": [
    {
     "ename": "NameError",
     "evalue": "name 'plt' is not defined",
     "output_type": "error",
     "traceback": [
      "\u001b[0;31m---------------------------------------------------------------------------\u001b[0m",
      "\u001b[0;31mNameError\u001b[0m                                 Traceback (most recent call last)",
      "Input \u001b[0;32mIn [1]\u001b[0m, in \u001b[0;36m<module>\u001b[0;34m\u001b[0m\n\u001b[0;32m----> 1\u001b[0m \u001b[43mplt\u001b[49m\u001b[38;5;241m.\u001b[39mplot(hist\u001b[38;5;241m.\u001b[39mhistory[\u001b[38;5;124m'\u001b[39m\u001b[38;5;124mloss\u001b[39m\u001b[38;5;124m'\u001b[39m])\n\u001b[1;32m      2\u001b[0m plt\u001b[38;5;241m.\u001b[39mplot(hist\u001b[38;5;241m.\u001b[39mhistory[\u001b[38;5;124m'\u001b[39m\u001b[38;5;124mval_loss\u001b[39m\u001b[38;5;124m'\u001b[39m])\n\u001b[1;32m      3\u001b[0m plt\u001b[38;5;241m.\u001b[39mlegend([\u001b[38;5;124m\"\u001b[39m\u001b[38;5;124mTraining\u001b[39m\u001b[38;5;124m\"\u001b[39m, \u001b[38;5;124m\"\u001b[39m\u001b[38;5;124mValidation\u001b[39m\u001b[38;5;124m\"\u001b[39m])\n",
      "\u001b[0;31mNameError\u001b[0m: name 'plt' is not defined"
     ]
    }
   ],
   "source": [
    "plt.plot(hist.history['loss'])\n",
    "plt.plot(hist.history['val_loss'])\n",
    "plt.legend([\"Training\", \"Validation\"])\n",
    "plt.title(\"Loss (MSE)\")"
   ]
  },
  {
   "cell_type": "code",
   "execution_count": 13,
   "metadata": {
    "id": "EY4N5rlImKLh"
   },
   "outputs": [
    {
     "data": {
      "text/plain": [
       "<matplotlib.legend.Legend at 0x7fca60cffac0>"
      ]
     },
     "execution_count": 13,
     "metadata": {},
     "output_type": "execute_result"
    },
    {
     "data": {
      "image/png": "[encoded data removed]",
      "text/plain": [
       "<Figure size 432x288 with 1 Axes>"
      ]
     },
     "metadata": {
      "needs_background": "light"
     },
     "output_type": "display_data"
    }
   ],
   "source": [
    "plt.plot(hist.history['mae'])\n",
    "plt.plot(hist.history['val_mae'])\n",
    "plt.legend([\"Training\", \"Validation\"])\n",
    "plt.title(\"MAE\")"
   ]
  },
  {
   "cell_type": "code",
   "execution_count": 19,
   "metadata": {
    "id": "acdD738_BsnV"
   },
   "outputs": [
    {
     "name": "stdout",
     "output_type": "stream",
     "text": [
      "4/4 [==============================] - 0s 150ms/step\n",
      "1/1 [==============================] - 0s 26ms/step\n",
      "Training accuracy: 1.0\n",
      "Val accuracy: 0.8461538461538461\n"
     ]
    }
   ],
   "source": [
    "training_acc = getAccuracy(model, x_train, y_train)\n",
    "val_acc = getAccuracy(model, x_val, y_val)\n",
    "print(f\"Training accuracy: {training_acc}\\nVal accuracy: {val_acc}\")"
   ]
  },
  {
   "cell_type": "code",
   "execution_count": 56,
   "metadata": {
    "id": "jlYyCfzEaZhk"
   },
   "outputs": [],
   "source": [
    "def findPhone(img_path, model, scale_percent=70):\n",
    "# This function is to locate a phone in the given image by a model\n",
    "    img_ = cv2.imread(img_path)\n",
    "    width = int(img_.shape[1] * scale_percent / 100)\n",
    "    height = int(img_.shape[0] * scale_percent / 100)\n",
    "    dim = (width, height)\n",
    "    img_ = cv2.resize(img_, dim, interpolation = cv2.INTER_AREA)/255\n",
    "    pred = model.predict(tf.expand_dims(img_, axis=0))\n",
    "    return pred[0]"
   ]
  },
  {
   "cell_type": "code",
   "execution_count": 57,
   "metadata": {},
   "outputs": [
    {
     "name": "stdout",
     "output_type": "stream",
     "text": [
      "1/1 [==============================] - 0s 22ms/step\n"
     ]
    },
    {
     "data": {
      "text/plain": [
       "array([0.7612411, 0.4388348], dtype=float32)"
      ]
     },
     "execution_count": 57,
     "metadata": {},
     "output_type": "execute_result"
    }
   ],
   "source": []
  },
  {
   "cell_type": "code",
   "execution_count": null,
   "metadata": {},
   "outputs": [],
   "source": []
  }
 ],
 "metadata": {
  "accelerator": "GPU",
  "colab": {
   "collapsed_sections": [],
   "name": "train.ipynb",
   "provenance": []
  },
  "gpuClass": "standard",
  "kernelspec": {
   "display_name": "Python 3 (ipykernel)",
   "language": "python",
   "name": "python3"
  },
  "language_info": {
   "codemirror_mode": {
    "name": "ipython",
    "version": 3
   },
   "file_extension": ".py",
   "mimetype": "text/x-python",
   "name": "python",
   "nbconvert_exporter": "python",
   "pygments_lexer": "ipython3",
   "version": "3.10.4"
  }
 },
 "nbformat": 4,
 "nbformat_minor": 1
}
